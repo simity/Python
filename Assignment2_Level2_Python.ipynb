{
 "cells": [
  {
   "cell_type": "code",
   "execution_count": 1,
   "id": "0813556a",
   "metadata": {},
   "outputs": [
    {
     "name": "stdout",
     "output_type": "stream",
     "text": [
      "0\n",
      "1\n",
      "2\n",
      "3\n",
      "4\n",
      "5\n",
      "6\n",
      "7\n",
      "8\n",
      "9\n",
      "10\n",
      "11\n",
      "12\n",
      "13\n",
      "14\n",
      "15\n",
      "16\n",
      "17\n",
      "18\n",
      "19\n"
     ]
    }
   ],
   "source": [
    "#Print 0 to 20 by using range\n",
    "range(0,20)\n",
    "for list in range(0,20):\n",
    "    print(list)"
   ]
  },
  {
   "cell_type": "code",
   "execution_count": 2,
   "id": "1afad1b7",
   "metadata": {},
   "outputs": [
    {
     "name": "stdout",
     "output_type": "stream",
     "text": [
      "10 11 12 13 14 15 16 17 18 19 "
     ]
    }
   ],
   "source": [
    "#Print 10 to 20 by using range\n",
    "range(10,20)\n",
    "for numList in range(10,20):\n",
    "    print(numList,end=\" \")"
   ]
  },
  {
   "cell_type": "code",
   "execution_count": 3,
   "id": "61ecaef8",
   "metadata": {},
   "outputs": [
    {
     "name": "stdout",
     "output_type": "stream",
     "text": [
      "[10, 20, 14, 55, 43, 87, 76]\n",
      "Number of item in the List2:\n",
      "7\n"
     ]
    }
   ],
   "source": [
    "#Print number of items in the list using 'len'\n",
    "List2=[10, 20, 14, 55, 43, 87, 76]\n",
    "print(List2)\n",
    "print(\"Number of item in the List2:\")\n",
    "print(len(List2))"
   ]
  },
  {
   "cell_type": "code",
   "execution_count": 4,
   "id": "1485cf95",
   "metadata": {},
   "outputs": [
    {
     "name": "stdout",
     "output_type": "stream",
     "text": [
      "Artificial Intelligence\n",
      "A\n",
      "r\n",
      "t\n",
      "i\n",
      "f\n",
      "i\n",
      "c\n",
      "i\n",
      "a\n",
      "l\n",
      " \n",
      "I\n",
      "n\n",
      "t\n",
      "e\n",
      "l\n",
      "l\n",
      "i\n",
      "g\n",
      "e\n",
      "n\n",
      "c\n",
      "e\n"
     ]
    }
   ],
   "source": [
    "#print string\n",
    "display=\"Artificial Intelligence\"\n",
    "print(display)\n",
    "for Course in display:\n",
    "    print(Course)"
   ]
  },
  {
   "cell_type": "code",
   "execution_count": 5,
   "id": "2cc08df1",
   "metadata": {},
   "outputs": [
    {
     "name": "stdout",
     "output_type": "stream",
     "text": [
      "- Your Name -\n",
      "- Your Age -\n",
      "- Your Profession -\n"
     ]
    }
   ],
   "source": [
    "formItem1=\"Your Name\"\n",
    "formItem2=\"Your Age\"\n",
    "formItem3=\"Your Profession\"\n",
    "print(\"-\",formItem1,\"-\")\n",
    "print(\"-\",formItem2,\"-\")\n",
    "print(\"-\",formItem3,\"-\")"
   ]
  },
  {
   "cell_type": "code",
   "execution_count": 6,
   "id": "3782e11e",
   "metadata": {},
   "outputs": [
    {
     "name": "stdout",
     "output_type": "stream",
     "text": [
      "(1, 'Welcome', 2, 'Hope')\n"
     ]
    }
   ],
   "source": [
    "#Print this mixered datatype using Tuples\n",
    "record=(1, 'Welcome', 2, 'Hope')\n",
    "print(record)"
   ]
  },
  {
   "cell_type": "code",
   "execution_count": 7,
   "id": "7216ae5b",
   "metadata": {},
   "outputs": [
    {
     "name": "stdout",
     "output_type": "stream",
     "text": [
      "((0, 1, 2, 3), ('python', 'HOPE'))\n"
     ]
    }
   ],
   "source": [
    "#Print this mixered datatype using Tuples\n",
    "Tuple1=(0, 1, 2, 3)\n",
    "Tuple2=('python', 'HOPE')\n",
    "Tuple3=((0, 1, 2, 3), ('python', 'HOPE'))\n",
    "print(Tuple3)"
   ]
  },
  {
   "cell_type": "code",
   "execution_count": 8,
   "id": "c358b26a",
   "metadata": {},
   "outputs": [
    {
     "name": "stdout",
     "output_type": "stream",
     "text": [
      "(20, 10, 16, 19, 25, 1, 276, 188)\n",
      "19  is odd\n",
      "25  is odd\n",
      "1  is odd\n"
     ]
    }
   ],
   "source": [
    "#print odd numbers in the list\n",
    "numList=(20,10,16,19,25,1,276,188)\n",
    "print(numList)\n",
    "for odd in numList:\n",
    " if (odd%2)==1:\n",
    "    print(odd,\" is odd\")"
   ]
  },
  {
   "cell_type": "code",
   "execution_count": 9,
   "id": "9160c222",
   "metadata": {},
   "outputs": [
    {
     "name": "stdout",
     "output_type": "stream",
     "text": [
      "(20, 10, 16, 19, 25, 1, 276, 188)\n",
      "20  is even\n",
      "10  is even\n",
      "16  is even\n",
      "276  is even\n",
      "188  is even\n"
     ]
    }
   ],
   "source": [
    "#print even numbers in the list\n",
    "numList=(20,10,16,19,25,1,276,188)\n",
    "print(numList)\n",
    "for even in numList:\n",
    " if (even%2)==0:\n",
    "    print(even,\" is even\")"
   ]
  }
 ],
 "metadata": {
  "kernelspec": {
   "display_name": "Python 3 (ipykernel)",
   "language": "python",
   "name": "python3"
  },
  "language_info": {
   "codemirror_mode": {
    "name": "ipython",
    "version": 3
   },
   "file_extension": ".py",
   "mimetype": "text/x-python",
   "name": "python",
   "nbconvert_exporter": "python",
   "pygments_lexer": "ipython3",
   "version": "3.11.5"
  }
 },
 "nbformat": 4,
 "nbformat_minor": 5
}

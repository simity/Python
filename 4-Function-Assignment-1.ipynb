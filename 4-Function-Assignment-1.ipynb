{
 "cells": [
  {
   "cell_type": "code",
   "execution_count": 1,
   "id": "5b1d3580",
   "metadata": {},
   "outputs": [
    {
     "name": "stdout",
     "output_type": "stream",
     "text": [
      "Sub-fields in AI are:\n",
      "Machine learning\n",
      "Neural Networks\n",
      "Vision\n",
      "Robotics\n",
      "Speech Processing\n",
      "Natural Language Processing\n"
     ]
    }
   ],
   "source": [
    "def Subfields():\n",
    "        Field1=\"Machine learning\"\n",
    "        Field2=\"Neural Networks\"\n",
    "        Field3=\"Vision\"\n",
    "        Field4=\"Robotics\"\n",
    "        Field5=\"Speech Processing\"\n",
    "        Field6=\"Natural Language Processing\"\n",
    "        print(\"Sub-fields in AI are:\")\n",
    "        print(Field1)\n",
    "        print(Field2)\n",
    "        print(Field3)\n",
    "        print(Field4)\n",
    "        print(Field5)\n",
    "        print(Field6)\n",
    "\n",
    "Subfields()"
   ]
  },
  {
   "cell_type": "code",
   "execution_count": 2,
   "id": "c2f85c0d",
   "metadata": {},
   "outputs": [
    {
     "name": "stdout",
     "output_type": "stream",
     "text": [
      "Enter a number: 52452\n",
      "52452 is Even number\n"
     ]
    },
    {
     "data": {
      "text/plain": [
       "'Even number'"
      ]
     },
     "execution_count": 2,
     "metadata": {},
     "output_type": "execute_result"
    }
   ],
   "source": [
    "def OddEven():\n",
    "        Num=int(input(\"Enter a number: \"))\n",
    "        if (Num%2)==0:\n",
    "            print(Num,\"is Even number\")\n",
    "            result=\"Even number\"\n",
    "        else:\n",
    "            print(Num,\"is Odd number\")\n",
    "            result=\"Odd number\"\n",
    "        return result   \n",
    "OddEven()"
   ]
  },
  {
   "cell_type": "code",
   "execution_count": 3,
   "id": "503b622f",
   "metadata": {},
   "outputs": [
    {
     "name": "stdout",
     "output_type": "stream",
     "text": [
      "Enter Gender: Male\n",
      "Enter Age: 20\n",
      "NOT ELIGIBLE\n"
     ]
    },
    {
     "data": {
      "text/plain": [
       "'NOT ELIGIBLE'"
      ]
     },
     "execution_count": 3,
     "metadata": {},
     "output_type": "execute_result"
    }
   ],
   "source": [
    "def Eligible():\n",
    "Gender=input(\"Enter Gender: \")\n",
    "Age=int(input(\"Enter Age: \"))\n",
    "        if(Gender==\"Male\"):\n",
    "            if(Age>=21):\n",
    "                print(\"ELIGIBLE\")\n",
    "                status=\"ELIGIBLE\"\n",
    "            else:\n",
    "                print(\"NOT ELIGIBLE\")\n",
    "                status=\"NOT ELIGIBLE\"\n",
    "        if(Gender==\"Female\"):\n",
    "            if(Age>=18):\n",
    "                print(\"ELIGIBLE\")\n",
    "                status=\"ELIGIBLE\"\n",
    "            else:\n",
    "                print(\"NOT ELIGIBLE\")\n",
    "                status=\"NOT ELIGIBLE\"\n",
    "        return status       \n",
    "                        \n",
    "Eligible()"
   ]
  },
  {
   "cell_type": "code",
   "execution_count": 4,
   "id": "5b974ad5",
   "metadata": {},
   "outputs": [
    {
     "name": "stdout",
     "output_type": "stream",
     "text": [
      "Subject1: 98\n",
      "Subject2: 87\n",
      "Subject3: 95\n",
      "Subject4: 95\n",
      "Subject5: 93\n",
      "Total :  468\n",
      "Percentage :  93.60000000000001\n"
     ]
    }
   ],
   "source": [
    " def percentage():\n",
    "        Sub1=int(input(\"Subject1: \"))\n",
    "        Sub2=int(input(\"Subject2: \"))\n",
    "        Sub3=int(input(\"Subject3: \"))\n",
    "        Sub4=int(input(\"Subject4: \"))\n",
    "        Sub5=int(input(\"Subject5: \"))\n",
    "        Total=Sub1+Sub2+Sub3+Sub4+Sub5\n",
    "        Percent=(Total/500.0)*100\n",
    "        print(\"Total : \",Total)\n",
    "        print(\"Percentage : \", Percent)\n",
    "percentage()"
   ]
  },
  {
   "cell_type": "code",
   "execution_count": 5,
   "id": "601032c1",
   "metadata": {},
   "outputs": [
    {
     "name": "stdout",
     "output_type": "stream",
     "text": [
      "Height: 32\n",
      "Breadth: 34\n",
      "Area formula=(Height*Breadth)/2\n",
      "Area of Triangle:  544.0\n",
      "Height1: 2\n",
      "Height2: 4\n",
      "Breadth: 4\n",
      "Perimeter formula= Height1+Height2+Breadth\n",
      "Perimeter of Triangle:  10\n"
     ]
    }
   ],
   "source": [
    "def triangle():\n",
    "        Height=int(input(\"Height: \"))\n",
    "        Breadth=int(input(\"Breadth: \"))\n",
    "        Area=(Height*Breadth)/2\n",
    "        print(\"Area formula=(Height*Breadth)/2\")\n",
    "        print(\"Area of Triangle: \",Area)\n",
    "        Height1=int(input(\"Height1: \"))\n",
    "        Height2=int(input(\"Height2: \"))\n",
    "        Breadth=int(input(\"Breadth: \"))\n",
    "        Perimeter=Height1+Height2+Breadth\n",
    "        print(\"Perimeter formula= Height1+Height2+Breadth\")\n",
    "        print(\"Perimeter of Triangle: \",Perimeter)\n",
    "       \n",
    "       \n",
    "triangle()"
   ]
  }
 ],
 "metadata": {
  "kernelspec": {
   "display_name": "Python 3 (ipykernel)",
   "language": "python",
   "name": "python3"
  },
  "language_info": {
   "codemirror_mode": {
    "name": "ipython",
    "version": 3
   },
   "file_extension": ".py",
   "mimetype": "text/x-python",
   "name": "python",
   "nbconvert_exporter": "python",
   "pygments_lexer": "ipython3",
   "version": "3.11.5"
  }
 },
 "nbformat": 4,
 "nbformat_minor": 5
}

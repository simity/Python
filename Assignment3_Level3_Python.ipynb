{
 "cells": [
  {
   "cell_type": "code",
   "execution_count": null,
   "id": "0593729a",
   "metadata": {},
   "outputs": [],
   "source": [
    "# print 'CORRECT' if i==10\n",
    "for i in range(0,20):\n",
    "    if (i==10):\n",
    "        print(\"value: \",i)\n",
    "print(\"Correct\")"
   ]
  },
  {
   "cell_type": "code",
   "execution_count": null,
   "id": "5bea25c2",
   "metadata": {},
   "outputs": [],
   "source": [
    "# check the password, using if and else\n",
    "password=input(\"Enter the password: \")"
   ]
  },
  {
   "cell_type": "code",
   "execution_count": null,
   "id": "19741f7d",
   "metadata": {},
   "outputs": [],
   "source": [
    "if(password==\"HOPE@123\"):\n",
    "    print(\"Enter the password: \",password)\n",
    "    print(\"Your password is correct\")\n",
    "else:\n",
    "    print(\"Your password is not correct\")"
   ]
  },
  {
   "cell_type": "code",
   "execution_count": null,
   "id": "42cc0d43",
   "metadata": {},
   "outputs": [],
   "source": [
    "# Category the people by their age like children, adult, citizen, senior citizen ...\n",
    "age=int(input(\"Enter the age: \"))"
   ]
  },
  {
   "cell_type": "code",
   "execution_count": null,
   "id": "1473ac5b",
   "metadata": {},
   "outputs": [],
   "source": [
    "if(age<=10):\n",
    "    print(\"age: \",age,end='\\n'\"Children\")\n",
    "elif(age<=30):\n",
    "    print(\"age: \",age,end='\\n'\"Adult\")\n",
    "elif(age<=60):\n",
    "    print(\"age: \",age,end='\\n'\"Citizen\")\n",
    "else:\n",
    "    print(\"age: \",age,end='\\n'\"Senior citizen\")   "
   ]
  },
  {
   "cell_type": "code",
   "execution_count": 1,
   "id": "c2fb14b8",
   "metadata": {},
   "outputs": [
    {
     "name": "stdout",
     "output_type": "stream",
     "text": [
      "Enter the number: 1\n"
     ]
    }
   ],
   "source": [
    "# Find whether the given number is positive or negative\n",
    "Num=int(input(\"Enter the number: \"))"
   ]
  },
  {
   "cell_type": "code",
   "execution_count": 2,
   "id": "8788806c",
   "metadata": {},
   "outputs": [
    {
     "name": "stdout",
     "output_type": "stream",
     "text": [
      "Enter any number:  1\n",
      "No is positive"
     ]
    }
   ],
   "source": [
    "if(Num>=0):\n",
    "    if(Num==0):\n",
    "        print(\"Enter any number: \",Num,end='\\n'\"No is zero\")\n",
    "    else:\n",
    "        print(\"Enter any number: \",Num,end='\\n'\"No is positive\")\n",
    "else:\n",
    "    print(\"Enter any number: \",Num,end='\\n'\"No is negative\")"
   ]
  },
  {
   "cell_type": "code",
   "execution_count": 3,
   "id": "9db48915",
   "metadata": {},
   "outputs": [
    {
     "name": "stdout",
     "output_type": "stream",
     "text": [
      "Enter the number: 22\n"
     ]
    }
   ],
   "source": [
    "# Check whether the given number is divisible by 5\n",
    "Num=int(input(\"Enter the number: \"))\n"
   ]
  },
  {
   "cell_type": "code",
   "execution_count": 4,
   "id": "856b44d5",
   "metadata": {},
   "outputs": [
    {
     "name": "stdout",
     "output_type": "stream",
     "text": [
      "Enter a number to check: 22\n",
      "No is not divisible by 5"
     ]
    }
   ],
   "source": [
    "if(Num%5==0):\n",
    "    print(\"Enter a number to check:\",Num,end='\\n'\"No is divisible by 5\")\n",
    "else:\n",
    "    print(\"Enter a number to check:\",Num,end='\\n'\"No is not divisible by 5\")"
   ]
  }
 ],
 "metadata": {
  "kernelspec": {
   "display_name": "Python 3 (ipykernel)",
   "language": "python",
   "name": "python3"
  },
  "language_info": {
   "codemirror_mode": {
    "name": "ipython",
    "version": 3
   },
   "file_extension": ".py",
   "mimetype": "text/x-python",
   "name": "python",
   "nbconvert_exporter": "python",
   "pygments_lexer": "ipython3",
   "version": "3.11.5"
  }
 },
 "nbformat": 4,
 "nbformat_minor": 5
}

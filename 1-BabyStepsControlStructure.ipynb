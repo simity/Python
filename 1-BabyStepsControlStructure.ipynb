{
 "cells": [
  {
   "cell_type": "code",
   "execution_count": 1,
   "id": "b4a2f5b9",
   "metadata": {},
   "outputs": [
    {
     "name": "stdout",
     "output_type": "stream",
     "text": [
      "Welcome to Assignment-1\n"
     ]
    }
   ],
   "source": [
    "print(\"Welcome to Assignment-1\")"
   ]
  },
  {
   "cell_type": "code",
   "execution_count": 2,
   "id": "1789ded7",
   "metadata": {},
   "outputs": [
    {
     "name": "stdout",
     "output_type": "stream",
     "text": [
      "Num1=  10\n",
      "Num2=  30\n",
      "Add=  40\n"
     ]
    }
   ],
   "source": [
    "Num1=10\n",
    "Num2=30\n",
    "Add=Num1+Num2\n",
    "print(\"Num1= \",Num1)\n",
    "print(\"Num2= \",Num2)\n",
    "print(\"Add= \",Add)"
   ]
  },
  {
   "cell_type": "markdown",
   "id": "55104f48",
   "metadata": {},
   "source": [
    "#Body Mass Index"
   ]
  },
  {
   "cell_type": "markdown",
   "id": "36cb9ef4",
   "metadata": {},
   "source": [
    "Method 1:"
   ]
  },
  {
   "cell_type": "code",
   "execution_count": 3,
   "id": "ea601bb2",
   "metadata": {},
   "outputs": [
    {
     "name": "stdout",
     "output_type": "stream",
     "text": [
      "Enter the BMI:34\n"
     ]
    }
   ],
   "source": [
    "BMI=int(input(\"Enter the BMI:\"))"
   ]
  },
  {
   "cell_type": "code",
   "execution_count": 4,
   "id": "444a0d6a",
   "metadata": {},
   "outputs": [
    {
     "name": "stdout",
     "output_type": "stream",
     "text": [
      "Enter the BMI Index: 34\n",
      "Very Overweight\n"
     ]
    }
   ],
   "source": [
    "if(BMI==34):\n",
    "    print(\"Enter the BMI Index:\",BMI)\n",
    "    print(\"Very Overweight\")"
   ]
  },
  {
   "cell_type": "markdown",
   "id": "82c3f64a",
   "metadata": {},
   "source": [
    "Method 2:"
   ]
  },
  {
   "cell_type": "code",
   "execution_count": 5,
   "id": "2bba9a2d",
   "metadata": {},
   "outputs": [
    {
     "name": "stdout",
     "output_type": "stream",
     "text": [
      "Enter the Weight:73\n"
     ]
    }
   ],
   "source": [
    "Weight=float(input(\"Enter the Weight:\"))"
   ]
  },
  {
   "cell_type": "code",
   "execution_count": 6,
   "id": "f252b2d9",
   "metadata": {},
   "outputs": [
    {
     "name": "stdout",
     "output_type": "stream",
     "text": [
      "Enter the Height:1.45\n"
     ]
    }
   ],
   "source": [
    "Height=float(input(\"Enter the Height:\"))"
   ]
  },
  {
   "cell_type": "code",
   "execution_count": 7,
   "id": "d9531a4f",
   "metadata": {},
   "outputs": [
    {
     "name": "stdout",
     "output_type": "stream",
     "text": [
      "Enter the BMI Index: 34\n",
      "Very Overweight\n"
     ]
    }
   ],
   "source": [
    "BMI=Weight/(Height**2)\n",
    "print(\"Enter the BMI Index:\",int(BMI))\n",
    "print(\"Very Overweight\")"
   ]
  },
  {
   "cell_type": "markdown",
   "id": "1e231e5d",
   "metadata": {},
   "source": [
    "Method 3:"
   ]
  },
  {
   "cell_type": "code",
   "execution_count": 8,
   "id": "1e84c5ca",
   "metadata": {},
   "outputs": [
    {
     "name": "stdout",
     "output_type": "stream",
     "text": [
      "Enter the BMI:34\n"
     ]
    }
   ],
   "source": [
    "BMI=int(input(\"Enter the BMI:\"))"
   ]
  },
  {
   "cell_type": "code",
   "execution_count": 9,
   "id": "809209ab",
   "metadata": {},
   "outputs": [
    {
     "name": "stdout",
     "output_type": "stream",
     "text": [
      "Enter the BMI Index: 34\n",
      "Very Overweight\n"
     ]
    }
   ],
   "source": [
    "if(BMI<18.5):\n",
    "    print(\"Enter the BMI Index:\",BMI)\n",
    "    print(\"Underweight\")\n",
    "elif(BMI<24.9):\n",
    "    print(\"Enter the BMI Index:\",BMI)\n",
    "    print(\"Normal\")\n",
    "elif(BMI<29.9):\n",
    "    print(\"Enter the BMI Index:\",BMI)\n",
    "    print(\"Overweight\")\n",
    "else:\n",
    "    print(\"Enter the BMI Index:\",BMI)\n",
    "    print(\"Very Overweight\")"
   ]
  },
  {
   "cell_type": "code",
   "execution_count": null,
   "id": "8dd5e261",
   "metadata": {},
   "outputs": [],
   "source": []
  }
 ],
 "metadata": {
  "kernelspec": {
   "display_name": "Python 3 (ipykernel)",
   "language": "python",
   "name": "python3"
  },
  "language_info": {
   "codemirror_mode": {
    "name": "ipython",
    "version": 3
   },
   "file_extension": ".py",
   "mimetype": "text/x-python",
   "name": "python",
   "nbconvert_exporter": "python",
   "pygments_lexer": "ipython3",
   "version": "3.11.5"
  }
 },
 "nbformat": 4,
 "nbformat_minor": 5
}

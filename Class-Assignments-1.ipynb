{
 "cells": [
  {
   "cell_type": "code",
   "execution_count": 1,
   "id": "e64e2d7e",
   "metadata": {},
   "outputs": [
    {
     "name": "stdout",
     "output_type": "stream",
     "text": [
      "Sub-fields in AI are:\n",
      "Machine learning\n",
      "Neural Networks\n",
      "Vision\n",
      "Robotics\n",
      "Speech Processing\n",
      "Natural Language Processing\n"
     ]
    }
   ],
   "source": [
    "# Create a class and function, and list out the items in the list\n",
    "class SubfieldsInAI():\n",
    "    def Subfields():\n",
    "        Field1=\"Machine learning\"\n",
    "        Field2=\"Neural Networks\"\n",
    "        Field3=\"Vision\"\n",
    "        Field4=\"Robotics\"\n",
    "        Field5=\"Speech Processing\"\n",
    "        Field6=\"Natural Language Processing\"\n",
    "        print(\"Sub-fields in AI are:\")\n",
    "        print(Field1)\n",
    "        print(Field2)\n",
    "        print(Field3)\n",
    "        print(Field4)\n",
    "        print(Field5)\n",
    "        print(Field6)\n",
    "\n",
    "SubfieldsInAI.Subfields()\n"
   ]
  },
  {
   "cell_type": "code",
   "execution_count": 2,
   "id": "cf624bd3",
   "metadata": {},
   "outputs": [
    {
     "name": "stdout",
     "output_type": "stream",
     "text": [
      "Enter a number: 52452\n",
      "52452 is Even number\n"
     ]
    },
    {
     "data": {
      "text/plain": [
       "'Even number'"
      ]
     },
     "execution_count": 2,
     "metadata": {},
     "output_type": "execute_result"
    }
   ],
   "source": [
    "# Create a function that checks whether the given number is Odd or Even\n",
    "Num=int(input(\"Enter a number: \"))\n",
    "class OddEven():\n",
    "    def OddEven():\n",
    "        if (Num%2)==0:\n",
    "            print(Num,\"is Even number\")\n",
    "            result=\"Even number\"\n",
    "        else:\n",
    "            print(Num,\"is Odd number\")\n",
    "            result=\"Odd number\"\n",
    "        return result   \n",
    "OddEven.OddEven()"
   ]
  },
  {
   "cell_type": "code",
   "execution_count": 3,
   "id": "aec4f32d",
   "metadata": {},
   "outputs": [
    {
     "name": "stdout",
     "output_type": "stream",
     "text": [
      "Enter Gender: Male\n",
      "Enter Age: 20\n",
      "NOT ELIGIBLE\n"
     ]
    },
    {
     "data": {
      "text/plain": [
       "'NOT ELIGIBLE'"
      ]
     },
     "execution_count": 3,
     "metadata": {},
     "output_type": "execute_result"
    }
   ],
   "source": [
    "# Create the function that tells elegibility of marriage for male and female according to\n",
    "#their age limit like 21 for male and 18 for female\n",
    "class EligibilityForMarriage():\n",
    "    def Eligible():\n",
    "        Gender=input(\"Enter Gender: \")\n",
    "        Age=int(input(\"Enter Age: \"))\n",
    "        if(Gender==\"Male\"):\n",
    "            if(Age>=21):\n",
    "                print(\"ELIGIBLE\")\n",
    "                status=\"ELIGIBLE\"\n",
    "            else:\n",
    "                print(\"NOT ELIGIBLE\")\n",
    "                status=\"NOT ELIGIBLE\"\n",
    "        if(Gender==\"Female\"):\n",
    "            if(Age>=18):\n",
    "                print(\"ELIGIBLE\")\n",
    "                status=\"ELIGIBLE\"\n",
    "            else:\n",
    "                print(\"NOT ELIGIBLE\")\n",
    "                status=\"NOT ELIGIBLE\"\n",
    "        return status       \n",
    "                        \n",
    "EligibilityForMarriage.Eligible()"
   ]
  },
  {
   "cell_type": "code",
   "execution_count": 4,
   "id": "b45e4798",
   "metadata": {},
   "outputs": [
    {
     "name": "stdout",
     "output_type": "stream",
     "text": [
      "Subject1: 98\n",
      "Subject2: 87\n",
      "Subject3: 95\n",
      "Subject4: 95\n",
      "Subject5: 93\n",
      "Total :  468\n",
      "Percentage :  93.60000000000001\n"
     ]
    }
   ],
   "source": [
    "# Calculate the percentage of your 10 mark\n",
    "class FindPercent():\n",
    "    def percentage():\n",
    "        Sub1=int(input(\"Subject1: \"))\n",
    "        Sub2=int(input(\"Subject2: \"))\n",
    "        Sub3=int(input(\"Subject3: \"))\n",
    "        Sub4=int(input(\"Subject4: \"))\n",
    "        Sub5=int(input(\"Subject5: \"))\n",
    "        Total=Sub1+Sub2+Sub3+Sub4+Sub5\n",
    "        Percent=(Total/500.0)*100\n",
    "        print(\"Total : \",Total)\n",
    "        print(\"Percentage : \", Percent)\n",
    "FindPercent.percentage()"
   ]
  },
  {
   "cell_type": "code",
   "execution_count": 5,
   "id": "0e064dfc",
   "metadata": {},
   "outputs": [
    {
     "name": "stdout",
     "output_type": "stream",
     "text": [
      "Height: 32\n",
      "Breadth: 34\n",
      "Area formula=(Height*Breadth)/2\n",
      "Area of Triangle:  544.0\n",
      "Height1: 2\n",
      "Height2: 4\n",
      "Breadth: 4\n",
      "Perimeter formula= Height1+Height2+Breadth\n",
      "Perimeter of Triangle:  10\n"
     ]
    }
   ],
   "source": [
    "# print area and perimeter of triangle using class and functions\n",
    "class triangle():\n",
    "    def triangle():\n",
    "        Height=int(input(\"Height: \"))\n",
    "        Breadth=int(input(\"Breadth: \"))\n",
    "        Area=(Height*Breadth)/2\n",
    "        print(\"Area formula=(Height*Breadth)/2\")\n",
    "        print(\"Area of Triangle: \",Area)\n",
    "        Height1=int(input(\"Height1: \"))\n",
    "        Height2=int(input(\"Height2: \"))\n",
    "        Breadth=int(input(\"Breadth: \"))\n",
    "        Perimeter=Height1+Height2+Breadth\n",
    "        print(\"Perimeter formula= Height1+Height2+Breadth\")\n",
    "        print(\"Perimeter of Triangle: \",Perimeter)   \n",
    "triangle.triangle()"
   ]
  }
 ],
 "metadata": {
  "kernelspec": {
   "display_name": "Python 3 (ipykernel)",
   "language": "python",
   "name": "python3"
  },
  "language_info": {
   "codemirror_mode": {
    "name": "ipython",
    "version": 3
   },
   "file_extension": ".py",
   "mimetype": "text/x-python",
   "name": "python",
   "nbconvert_exporter": "python",
   "pygments_lexer": "ipython3",
   "version": "3.11.5"
  }
 },
 "nbformat": 4,
 "nbformat_minor": 5
}

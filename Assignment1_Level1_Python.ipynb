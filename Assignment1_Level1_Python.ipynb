{
 "cells": [
  {
   "cell_type": "markdown",
   "id": "ffb6d2be",
   "metadata": {},
   "source": [
    "#Print Statement"
   ]
  },
  {
   "cell_type": "code",
   "execution_count": 1,
   "id": "6dd0e146",
   "metadata": {},
   "outputs": [
    {
     "name": "stdout",
     "output_type": "stream",
     "text": [
      "HOPE AI\n"
     ]
    }
   ],
   "source": [
    "print(\"HOPE AI\")"
   ]
  },
  {
   "cell_type": "markdown",
   "id": "767585e2",
   "metadata": {},
   "source": [
    "#Buy input"
   ]
  },
  {
   "cell_type": "code",
   "execution_count": 2,
   "id": "5e59c6c2",
   "metadata": {},
   "outputs": [
    {
     "name": "stdout",
     "output_type": "stream",
     "text": [
      "Enter your institute name: HOPE AI\n"
     ]
    }
   ],
   "source": [
    "instituteName=input(\"Enter your institute name: \")"
   ]
  },
  {
   "cell_type": "code",
   "execution_count": 3,
   "id": "bd284f5c",
   "metadata": {},
   "outputs": [
    {
     "name": "stdout",
     "output_type": "stream",
     "text": [
      "Enter your institute name? :  HOPE AI\n"
     ]
    }
   ],
   "source": [
    "print(\"Enter your institute name? : \",instituteName)"
   ]
  },
  {
   "cell_type": "markdown",
   "id": "2100cd74",
   "metadata": {},
   "source": [
    "#Buy inputs"
   ]
  },
  {
   "cell_type": "code",
   "execution_count": 4,
   "id": "6fe0620c",
   "metadata": {},
   "outputs": [
    {
     "name": "stdout",
     "output_type": "stream",
     "text": [
      "Enter your name: Raj\n"
     ]
    }
   ],
   "source": [
    "name=input(\"Enter your name: \")"
   ]
  },
  {
   "cell_type": "code",
   "execution_count": 5,
   "id": "9f148886",
   "metadata": {},
   "outputs": [
    {
     "name": "stdout",
     "output_type": "stream",
     "text": [
      "Enter your age: 15\n"
     ]
    }
   ],
   "source": [
    "age=int(input(\"Enter your age: \"))"
   ]
  },
  {
   "cell_type": "code",
   "execution_count": 6,
   "id": "f4bf0c56",
   "metadata": {},
   "outputs": [
    {
     "name": "stdout",
     "output_type": "stream",
     "text": [
      "Enter your school name: Guru school\n"
     ]
    }
   ],
   "source": [
    "schoolName=input(\"Enter your school name: \")"
   ]
  },
  {
   "cell_type": "code",
   "execution_count": 7,
   "id": "f8d670ac",
   "metadata": {},
   "outputs": [
    {
     "name": "stdout",
     "output_type": "stream",
     "text": [
      "Enter your degree: B.E CSE\n"
     ]
    }
   ],
   "source": [
    "degree=input(\"Enter your degree: \")"
   ]
  },
  {
   "cell_type": "code",
   "execution_count": 8,
   "id": "a132c32c",
   "metadata": {},
   "outputs": [
    {
     "name": "stdout",
     "output_type": "stream",
     "text": [
      "Enter your name: Raj\n",
      "Enter your age:  15\n",
      "Enter your school name: Guru school\n",
      "Enter your degree: B.E CSE\n"
     ]
    }
   ],
   "source": [
    "print(\"Enter your name:\",name)\n",
    "print(\"Enter your age: \",age)\n",
    "print(\"Enter your school name:\",schoolName)\n",
    "print(\"Enter your degree:\",degree)"
   ]
  },
  {
   "cell_type": "markdown",
   "id": "23a2bbf7",
   "metadata": {},
   "source": [
    "#Addition"
   ]
  },
  {
   "cell_type": "code",
   "execution_count": 9,
   "id": "3452303f",
   "metadata": {},
   "outputs": [
    {
     "name": "stdout",
     "output_type": "stream",
     "text": [
      "a=  43\n",
      "b=  34\n",
      "Add =  77\n"
     ]
    }
   ],
   "source": [
    "Num1=43\n",
    "Num2=34\n",
    "Add=Num1+Num2\n",
    "print(\"a= \",Num1)\n",
    "print(\"b= \",Num2)\n",
    "print(\"Add = \",Add)"
   ]
  },
  {
   "cell_type": "markdown",
   "id": "9c33ee8a",
   "metadata": {},
   "source": [
    "#Subtraction"
   ]
  },
  {
   "cell_type": "code",
   "execution_count": 10,
   "id": "49ae0894",
   "metadata": {},
   "outputs": [
    {
     "name": "stdout",
     "output_type": "stream",
     "text": [
      "a=  43\n",
      "b=  34\n",
      "Sub =  9\n"
     ]
    }
   ],
   "source": [
    "Num1=43\n",
    "Num2=34\n",
    "Sub=Num1-Num2\n",
    "print(\"a= \",Num1)\n",
    "print(\"b= \",Num2)\n",
    "print(\"Sub = \",Sub)"
   ]
  },
  {
   "cell_type": "code",
   "execution_count": 11,
   "id": "e4466c8b",
   "metadata": {},
   "outputs": [
    {
     "name": "stdout",
     "output_type": "stream",
     "text": [
      "a=  63\n",
      "b=  97\n",
      "Mul =  6111\n"
     ]
    }
   ],
   "source": [
    "#Multiplication\n",
    "\n",
    "Num1=63\n",
    "Num2=97\n",
    "Mul=Num1*Num2\n",
    "print(\"a= \",Num1)\n",
    "print(\"b= \",Num2)\n",
    "print(\"Mul = \",Mul)"
   ]
  },
  {
   "cell_type": "code",
   "execution_count": 12,
   "id": "219481dc",
   "metadata": {},
   "outputs": [
    {
     "name": "stdout",
     "output_type": "stream",
     "text": [
      "a=  76\n",
      "b=  31\n",
      "Float Div =  2.4516129032258065\n"
     ]
    }
   ],
   "source": [
    "#Division\n",
    "Num1=76\n",
    "Num2=31\n",
    "Div=Num1/Num2\n",
    "print(\"a= \",Num1)\n",
    "print(\"b= \",Num2)\n",
    "print(\"Float Div = \",Div)"
   ]
  },
  {
   "cell_type": "code",
   "execution_count": 13,
   "id": "6961146c",
   "metadata": {},
   "outputs": [
    {
     "name": "stdout",
     "output_type": "stream",
     "text": [
      "a=  76\n",
      "b=  31\n",
      "Floor Div =  2\n"
     ]
    }
   ],
   "source": [
    "#Floor division\n",
    "Num1=76\n",
    "Num2=31\n",
    "floorDiv=Num1//Num2\n",
    "print(\"a= \",Num1)\n",
    "print(\"b= \",Num2)\n",
    "print(\"Floor Div = \",floorDiv)"
   ]
  },
  {
   "cell_type": "code",
   "execution_count": 14,
   "id": "d1ecf426",
   "metadata": {},
   "outputs": [
    {
     "name": "stdout",
     "output_type": "stream",
     "text": [
      "a=  76\n",
      "b=  31\n",
      "Modulo =  14\n"
     ]
    }
   ],
   "source": [
    "#Modulo\n",
    "Num1=76\n",
    "Num2=31\n",
    "Mod=Num1%Num2\n",
    "print(\"a= \",Num1)\n",
    "print(\"b= \",Num2)\n",
    "print(\"Modulo = \",Mod)"
   ]
  },
  {
   "cell_type": "code",
   "execution_count": 15,
   "id": "6300fe29",
   "metadata": {},
   "outputs": [
    {
     "name": "stdout",
     "output_type": "stream",
     "text": [
      "a=  4\n",
      "b=  4\n",
      "Power =  256\n"
     ]
    }
   ],
   "source": [
    "#Power\n",
    "Num1=4\n",
    "Num2=4\n",
    "Power=Num1**Num2\n",
    "print(\"a= \",Num1)\n",
    "print(\"b= \",Num2)\n",
    "print(\"Power = \",Power)"
   ]
  }
 ],
 "metadata": {
  "kernelspec": {
   "display_name": "Python 3 (ipykernel)",
   "language": "python",
   "name": "python3"
  },
  "language_info": {
   "codemirror_mode": {
    "name": "ipython",
    "version": 3
   },
   "file_extension": ".py",
   "mimetype": "text/x-python",
   "name": "python",
   "nbconvert_exporter": "python",
   "pygments_lexer": "ipython3",
   "version": "3.11.5"
  }
 },
 "nbformat": 4,
 "nbformat_minor": 5
}
